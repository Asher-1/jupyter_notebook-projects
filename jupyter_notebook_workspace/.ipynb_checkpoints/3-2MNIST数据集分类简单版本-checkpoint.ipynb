{
 "cells": [
  {
   "cell_type": "code",
   "execution_count": 1,
   "metadata": {},
   "outputs": [],
   "source": [
    "import tensorflow as tf\n",
    "from tensorflow.examples.tutorials.mnist import input_data"
   ]
  },
  {
   "cell_type": "code",
   "execution_count": 5,
   "metadata": {},
   "outputs": [
    {
     "name": "stdout",
     "output_type": "stream",
     "text": [
      "Extracting MNIST_data\\train-images-idx3-ubyte.gz\n",
      "Extracting MNIST_data\\train-labels-idx1-ubyte.gz\n",
      "Extracting MNIST_data\\t10k-images-idx3-ubyte.gz\n",
      "Extracting MNIST_data\\t10k-labels-idx1-ubyte.gz\n",
      "Iter 0,Testing Accuracy 0.8304\n",
      "Iter 1,Testing Accuracy 0.8708\n",
      "Iter 2,Testing Accuracy 0.8816\n",
      "Iter 3,Testing Accuracy 0.8889\n",
      "Iter 4,Testing Accuracy 0.8935\n",
      "Iter 5,Testing Accuracy 0.8981\n",
      "Iter 6,Testing Accuracy 0.9003\n",
      "Iter 7,Testing Accuracy 0.9024\n",
      "Iter 8,Testing Accuracy 0.9037\n",
      "Iter 9,Testing Accuracy 0.9051\n",
      "Iter 10,Testing Accuracy 0.9061\n",
      "Iter 11,Testing Accuracy 0.9068\n",
      "Iter 12,Testing Accuracy 0.9087\n",
      "Iter 13,Testing Accuracy 0.9092\n",
      "Iter 14,Testing Accuracy 0.9103\n",
      "Iter 15,Testing Accuracy 0.9103\n",
      "Iter 16,Testing Accuracy 0.9117\n",
      "Iter 17,Testing Accuracy 0.9121\n",
      "Iter 18,Testing Accuracy 0.9127\n",
      "Iter 19,Testing Accuracy 0.9132\n",
      "Iter 20,Testing Accuracy 0.9144\n",
      "Iter 21,Testing Accuracy 0.9146\n",
      "Iter 22,Testing Accuracy 0.9151\n",
      "Iter 23,Testing Accuracy 0.9151\n",
      "Iter 24,Testing Accuracy 0.9159\n",
      "Iter 25,Testing Accuracy 0.916\n",
      "Iter 26,Testing Accuracy 0.9169\n",
      "Iter 27,Testing Accuracy 0.9172\n",
      "Iter 28,Testing Accuracy 0.9171\n",
      "Iter 29,Testing Accuracy 0.9175\n",
      "Iter 30,Testing Accuracy 0.9177\n",
      "Iter 31,Testing Accuracy 0.9177\n",
      "Iter 32,Testing Accuracy 0.9185\n",
      "Iter 33,Testing Accuracy 0.918\n",
      "Iter 34,Testing Accuracy 0.9188\n",
      "Iter 35,Testing Accuracy 0.9191\n",
      "Iter 36,Testing Accuracy 0.9187\n",
      "Iter 37,Testing Accuracy 0.9191\n",
      "Iter 38,Testing Accuracy 0.919\n",
      "Iter 39,Testing Accuracy 0.9196\n",
      "Iter 40,Testing Accuracy 0.92\n",
      "Iter 41,Testing Accuracy 0.9202\n",
      "Iter 42,Testing Accuracy 0.9206\n",
      "Iter 43,Testing Accuracy 0.92\n",
      "Iter 44,Testing Accuracy 0.9201\n",
      "Iter 45,Testing Accuracy 0.921\n",
      "Iter 46,Testing Accuracy 0.9209\n",
      "Iter 47,Testing Accuracy 0.9207\n",
      "Iter 48,Testing Accuracy 0.9211\n",
      "Iter 49,Testing Accuracy 0.9212\n",
      "Iter 50,Testing Accuracy 0.9215\n"
     ]
    }
   ],
   "source": [
    "#载入数据集\n",
    "mnist = input_data.read_data_sets(\"MNIST_data\",one_hot=True)\n",
    "\n",
    "#每个批次的大小\n",
    "batch_size = 100\n",
    "#计算一共有多少个批次\n",
    "n_batch = mnist.train.num_examples // batch_size\n",
    "\n",
    "#定义两个placeholder\n",
    "x = tf.placeholder(tf.float32,[None,784])# 28*28\n",
    "y = tf.placeholder(tf.float32,[None,10])\n",
    "\n",
    "#创建一个简单的神经网络\n",
    "W = tf.Variable(tf.zeros([784,10]))\n",
    "b = tf.Variable(tf.zeros([10]))\n",
    "prediction = tf.nn.softmax(tf.matmul(x,W)+b)\n",
    "\n",
    "#二次代价函数\n",
    "loss = tf.reduce_mean(tf.square(y-prediction))\n",
    "#使用梯度下降法\n",
    "train_step = tf.train.GradientDescentOptimizer(0.2).minimize(loss)\n",
    "\n",
    "#初始化变量\n",
    "init = tf.global_variables_initializer()\n",
    "\n",
    "#结果存放在一个布尔型列表中\n",
    "correct_prediction = tf.equal(tf.argmax(y,1),tf.argmax(prediction,1))#argmax返回一维张量中最大的值所在的位置\n",
    "#求准确率(true->1; false->0)\n",
    "accuracy = tf.reduce_mean(tf.cast(correct_prediction,tf.float32)) # cast--格式转换函数\n",
    "\n",
    "with tf.Session() as sess:\n",
    "    sess.run(init)\n",
    "    for epoch in range(21):\n",
    "        for batch in range(n_batch):\n",
    "            batch_xs,batch_ys =  mnist.train.next_batch(batch_size)\n",
    "            sess.run(train_step,feed_dict={x:batch_xs,y:batch_ys})\n",
    "        \n",
    "        acc = sess.run(accuracy,feed_dict={x:mnist.test.images,y:mnist.test.labels})\n",
    "        print(\"Iter \" + str(epoch) + \",Testing Accuracy \" + str(acc))"
   ]
  },
  {
   "cell_type": "code",
   "execution_count": null,
   "metadata": {
    "collapsed": true
   },
   "outputs": [],
   "source": []
  }
 ],
 "metadata": {
  "anaconda-cloud": {},
  "kernelspec": {
   "display_name": "Python 3",
   "language": "python",
   "name": "python3"
  },
  "language_info": {
   "codemirror_mode": {
    "name": "ipython",
    "version": 3
   },
   "file_extension": ".py",
   "mimetype": "text/x-python",
   "name": "python",
   "nbconvert_exporter": "python",
   "pygments_lexer": "ipython3",
   "version": "3.6.1"
  }
 },
 "nbformat": 4,
 "nbformat_minor": 1
}
